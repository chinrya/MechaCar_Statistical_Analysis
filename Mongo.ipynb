{
 "cells": [
  {
   "cell_type": "code",
   "execution_count": 1,
   "id": "e92752b6",
   "metadata": {},
   "outputs": [],
   "source": [
    "from pymongo import MongoClient\n",
    "mongo = MongoClient(port=27017)"
   ]
  },
  {
   "cell_type": "code",
   "execution_count": 2,
   "id": "6b2cdb2c",
   "metadata": {},
   "outputs": [
    {
     "name": "stdout",
     "output_type": "stream",
     "text": [
      "['admin', 'config', 'local']\n"
     ]
    }
   ],
   "source": [
    "print(mongo.list_database_names())"
   ]
  },
  {
   "cell_type": "code",
   "execution_count": 3,
   "id": "3bbfcf37",
   "metadata": {},
   "outputs": [],
   "source": [
    "my_first_db = mongo['my_db']"
   ]
  },
  {
   "cell_type": "code",
   "execution_count": 4,
   "id": "b6697d5f",
   "metadata": {},
   "outputs": [
    {
     "name": "stdout",
     "output_type": "stream",
     "text": [
      "['admin', 'config', 'local']\n"
     ]
    }
   ],
   "source": [
    "print(mongo.list_database_names())"
   ]
  },
  {
   "cell_type": "code",
   "execution_count": 5,
   "id": "7ddd3c40",
   "metadata": {},
   "outputs": [
    {
     "data": {
      "text/plain": [
       "[]"
      ]
     },
     "execution_count": 5,
     "metadata": {},
     "output_type": "execute_result"
    }
   ],
   "source": [
    "my_first_collection = my_first_db['my_collection']\n",
    "my_first_db.list_collection_names()"
   ]
  },
  {
   "cell_type": "code",
   "execution_count": 6,
   "id": "8470d4f4",
   "metadata": {},
   "outputs": [
    {
     "data": {
      "text/plain": [
       "<pymongo.results.InsertOneResult at 0x7fa4c89dbd10>"
      ]
     },
     "execution_count": 6,
     "metadata": {},
     "output_type": "execute_result"
    }
   ],
   "source": [
    "my_first_collection.insert_one({'name': 'Mickey'})"
   ]
  },
  {
   "cell_type": "code",
   "execution_count": 7,
   "id": "0fb81d0c",
   "metadata": {},
   "outputs": [
    {
     "name": "stdout",
     "output_type": "stream",
     "text": [
      "['admin', 'config', 'local', 'my_db']\n",
      "['my_collection']\n"
     ]
    }
   ],
   "source": [
    "print(mongo.list_database_names())\n",
    "print(my_first_db.list_collection_names())"
   ]
  },
  {
   "cell_type": "code",
   "execution_count": 10,
   "id": "92eae9f6",
   "metadata": {},
   "outputs": [
    {
     "name": "stdout",
     "output_type": "stream",
     "text": [
      "{'_id': ObjectId('636b0e6767e455ac06eb5ea8'), 'name': 'Mickey'}\n"
     ]
    }
   ],
   "source": [
    "results = my_first_collection.find()\n",
    "for result in results:\n",
    "    print(result)"
   ]
  },
  {
   "cell_type": "code",
   "execution_count": 12,
   "id": "5984ff32",
   "metadata": {},
   "outputs": [
    {
     "name": "stdout",
     "output_type": "stream",
     "text": [
      "{'_id': ObjectId('636b0e6767e455ac06eb5ea8'), 'name': 'Mickey'}\n",
      "{'_id': 3, 'name': 'Goofy', 'age': 87, 'species': 'dog'}\n"
     ]
    }
   ],
   "source": [
    "goofy = {'_id':3, 'name': 'Goofy', 'age': 87, 'species': 'dog'}\n",
    "my_first_collection.insert_one(goofy)\n",
    "\n",
    "results = my_first_collection.find()\n",
    "for result in results:\n",
    "    print(result)"
   ]
  },
  {
   "cell_type": "code",
   "execution_count": 13,
   "id": "7b8963cc",
   "metadata": {},
   "outputs": [
    {
     "data": {
      "text/plain": [
       "<pymongo.results.InsertManyResult at 0x7fa4c896d950>"
      ]
     },
     "execution_count": 13,
     "metadata": {},
     "output_type": "execute_result"
    }
   ],
   "source": [
    "animals = [{'name': 'Donald', 'species': 'duck'}, {'name': 'Daisy', 'species': 'duck'}]\n",
    "my_first_collection.insert_many(animals)"
   ]
  },
  {
   "cell_type": "code",
   "execution_count": 14,
   "id": "8e6ca9be",
   "metadata": {},
   "outputs": [
    {
     "name": "stdout",
     "output_type": "stream",
     "text": [
      "{'_id': ObjectId('636b0e6767e455ac06eb5ea8'), 'name': 'Mickey'}\n",
      "{'_id': 3, 'name': 'Goofy', 'age': 87, 'species': 'dog'}\n",
      "{'_id': ObjectId('636b0f8367e455ac06eb5ea9'), 'name': 'Donald', 'species': 'duck'}\n",
      "{'_id': ObjectId('636b0f8367e455ac06eb5eaa'), 'name': 'Daisy', 'species': 'duck'}\n"
     ]
    }
   ],
   "source": [
    "results = my_first_collection.find()\n",
    "for result in results:\n",
    "    print(result)"
   ]
  },
  {
   "cell_type": "code",
   "execution_count": 15,
   "id": "c4487b04",
   "metadata": {},
   "outputs": [
    {
     "data": {
      "text/plain": [
       "[{'_id': 3, 'name': 'Goofy', 'age': 87, 'species': 'dog'}]"
      ]
     },
     "execution_count": 15,
     "metadata": {},
     "output_type": "execute_result"
    }
   ],
   "source": [
    "query = {'age': {'$gt':85}}\n",
    "results = my_first_collection.find(query)\n",
    "[result for result in results]"
   ]
  },
  {
   "cell_type": "code",
   "execution_count": 16,
   "id": "693eb2f3",
   "metadata": {},
   "outputs": [
    {
     "data": {
      "text/plain": [
       "[{'_id': ObjectId('636b0e6767e455ac06eb5ea8'), 'name': 'Mickey Mouse'},\n",
       " {'_id': 3, 'name': 'Goofy', 'age': 87, 'species': 'dog'},\n",
       " {'_id': ObjectId('636b0f8367e455ac06eb5ea9'),\n",
       "  'name': 'Donald',\n",
       "  'species': 'duck'},\n",
       " {'_id': ObjectId('636b0f8367e455ac06eb5eaa'),\n",
       "  'name': 'Daisy',\n",
       "  'species': 'duck'}]"
      ]
     },
     "execution_count": 16,
     "metadata": {},
     "output_type": "execute_result"
    }
   ],
   "source": [
    "query = {'name': 'Mickey'}\n",
    "update = {'$set': {'name': 'Mickey Mouse'}}\n",
    "my_first_collection.update_one(query, update)\n",
    "[r for r in my_first_collection.find()]"
   ]
  },
  {
   "cell_type": "code",
   "execution_count": 17,
   "id": "2496a233",
   "metadata": {},
   "outputs": [
    {
     "data": {
      "text/plain": [
       "[{'_id': 3, 'name': 'Goofy', 'age': 87, 'species': 'dog'},\n",
       " {'_id': ObjectId('636b0f8367e455ac06eb5ea9'),\n",
       "  'name': 'Donald',\n",
       "  'species': 'duck'},\n",
       " {'_id': ObjectId('636b0f8367e455ac06eb5eaa'),\n",
       "  'name': 'Daisy',\n",
       "  'species': 'duck'}]"
      ]
     },
     "execution_count": 17,
     "metadata": {},
     "output_type": "execute_result"
    }
   ],
   "source": [
    "query = {'name': 'Mickey Mouse'}\n",
    "my_first_collection.delete_one(query)\n",
    "[r for r in my_first_collection.find()]"
   ]
  },
  {
   "cell_type": "code",
   "execution_count": 18,
   "id": "65366465",
   "metadata": {},
   "outputs": [
    {
     "data": {
      "text/plain": [
       "[{'_id': 3, 'name': 'Goofy', 'age': 87, 'species': 'dog'}]"
      ]
     },
     "execution_count": 18,
     "metadata": {},
     "output_type": "execute_result"
    }
   ],
   "source": [
    "query = {'species': 'duck'}\n",
    "my_first_collection.delete_many(query)\n",
    "[r for r in my_first_collection.find()]"
   ]
  },
  {
   "cell_type": "code",
   "execution_count": 19,
   "id": "2957a005",
   "metadata": {},
   "outputs": [
    {
     "data": {
      "text/plain": [
       "{'nIndexesWas': 1, 'ns': 'my_db.my_collection', 'ok': 1.0}"
      ]
     },
     "execution_count": 19,
     "metadata": {},
     "output_type": "execute_result"
    }
   ],
   "source": [
    "my_first_db.drop_collection('my_collection')"
   ]
  },
  {
   "cell_type": "code",
   "execution_count": 20,
   "id": "63ef2c7b",
   "metadata": {},
   "outputs": [
    {
     "data": {
      "text/plain": [
       "[]"
      ]
     },
     "execution_count": 20,
     "metadata": {},
     "output_type": "execute_result"
    }
   ],
   "source": [
    "my_first_db.list_collection_names()"
   ]
  },
  {
   "cell_type": "code",
   "execution_count": 21,
   "id": "5e247e92",
   "metadata": {},
   "outputs": [],
   "source": [
    "mongo.drop_database('my_db')"
   ]
  },
  {
   "cell_type": "code",
   "execution_count": 22,
   "id": "ad403cd6",
   "metadata": {},
   "outputs": [
    {
     "data": {
      "text/plain": [
       "['admin', 'config', 'local']"
      ]
     },
     "execution_count": 22,
     "metadata": {},
     "output_type": "execute_result"
    }
   ],
   "source": [
    "mongo.list_database_names()"
   ]
  },
  {
   "cell_type": "code",
   "execution_count": null,
   "id": "011424cc",
   "metadata": {},
   "outputs": [],
   "source": []
  }
 ],
 "metadata": {
  "kernelspec": {
   "display_name": "Python 3 (ipykernel)",
   "language": "python",
   "name": "python3"
  },
  "language_info": {
   "codemirror_mode": {
    "name": "ipython",
    "version": 3
   },
   "file_extension": ".py",
   "mimetype": "text/x-python",
   "name": "python",
   "nbconvert_exporter": "python",
   "pygments_lexer": "ipython3",
   "version": "3.7.13"
  }
 },
 "nbformat": 4,
 "nbformat_minor": 5
}
